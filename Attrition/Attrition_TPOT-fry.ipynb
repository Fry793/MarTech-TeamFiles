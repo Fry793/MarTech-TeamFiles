{
 "cells": [
  {
   "cell_type": "code",
   "execution_count": 1,
   "metadata": {},
   "outputs": [],
   "source": [
    "import pandas as pd\n",
    "import numpy as np\n",
    "#一 数据收集 start \n",
    "train=pd.read_csv('train.csv')\n",
    "test=pd.read_csv('test.csv')"
   ]
  },
  {
   "cell_type": "code",
   "execution_count": 2,
   "metadata": {},
   "outputs": [
    {
     "name": "stdout",
     "output_type": "stream",
     "text": [
      "No     988\n",
      "Yes    188\n",
      "Name: Attrition, dtype: int64\n"
     ]
    }
   ],
   "source": [
    "#二 数据预处理 start \n",
    "print(train['Attrition'].value_counts())\n",
    "train['Attrition']=train['Attrition'].map(lambda x:1 if x=='Yes' else 0)"
   ]
  },
  {
   "cell_type": "code",
   "execution_count": 3,
   "metadata": {},
   "outputs": [],
   "source": [
    "#train.isna().sum()#查看是否有空值 Step1，对数据进行探索 \n",
    "#Step2，去掉无用特征，处理分类特征\n",
    "train= train.drop(['EmployeeNumber', 'StandardHours'], axis=1)\n",
    "test=test.drop(['EmployeeNumber', 'StandardHours'], axis=1)"
   ]
  },
  {
   "cell_type": "code",
   "execution_count": 4,
   "metadata": {},
   "outputs": [
    {
     "name": "stdout",
     "output_type": "stream",
     "text": [
      "[LabelEncoder(), LabelEncoder(), LabelEncoder(), LabelEncoder(), LabelEncoder(), LabelEncoder(), LabelEncoder(), LabelEncoder(), LabelEncoder()]\n"
     ]
    }
   ],
   "source": [
    "#分类特征进行特征值编码：\n",
    "from sklearn import preprocessing \n",
    "\n",
    "attr=['Age','BusinessTravel','Department','EducationField','Gender','JobRole','MaritalStatus','Over18','OverTime']\n",
    "lbe_list=[]\n",
    "for fea in attr:\n",
    "    lbe=preprocessing.LabelEncoder()\n",
    "    train[fea]=lbe.fit_transform(train[fea])\n",
    "    test[fea]=lbe.transform(test[fea])\n",
    "    lbe_list.append(lbe)\n",
    "print(lbe_list)"
   ]
  },
  {
   "cell_type": "code",
   "execution_count": 5,
   "metadata": {},
   "outputs": [],
   "source": [
    "from tpot import TPOTClassifier"
   ]
  },
  {
   "cell_type": "code",
   "execution_count": 6,
   "metadata": {},
   "outputs": [
    {
     "data": {
      "application/vnd.jupyter.widget-view+json": {
       "model_id": "d9a16473829c4a52b025ae7a701ee1ac",
       "version_major": 2,
       "version_minor": 0
      },
      "text/plain": [
       "HBox(children=(FloatProgress(value=0.0, description='Optimization Progress', max=120.0, style=ProgressStyle(de…"
      ]
     },
     "metadata": {},
     "output_type": "display_data"
    },
    {
     "name": "stdout",
     "output_type": "stream",
     "text": [
      "Generation 1 - Current best internal CV score: 0.8691489361702128\n",
      "Generation 2 - Current best internal CV score: 0.876595744680851\n",
      "Generation 3 - Current best internal CV score: 0.876595744680851\n",
      "Generation 4 - Current best internal CV score: 0.876595744680851\n",
      "Generation 5 - Current best internal CV score: 0.8776595744680851\n",
      "\n",
      "Best pipeline: ExtraTreesClassifier(GaussianNB(input_matrix), bootstrap=True, criterion=gini, max_features=0.45, min_samples_leaf=8, min_samples_split=20, n_estimators=100)\n",
      "0.8389830508474576\n"
     ]
    }
   ],
   "source": [
    "#Step4，模型训练，得出预测结果\n",
    "\n",
    "from sklearn.model_selection import  train_test_split\n",
    "from sklearn.metrics import accuracy_score\n",
    "X_train,X_valid,Y_train,Y_valid=train_test_split(train.drop('Attrition',axis=1),train['Attrition'],test_size=0.2,random_state=42)\n",
    "tpot=TPOTClassifier(generations=5,population_size=20,verbosity=2)\n",
    "tpot.fit(X_train,Y_train)\n",
    "print(tpot.score(X_valid,Y_valid))\n",
    "#predict=model.predict(test)\n",
    "#predict_y=model.predict(X_valid)\n",
    "#print('LR准确率: %0.4lf' % accuracy_score(predic_y, Y_valid))\n",
    "#print(predict)\n",
    "#test['Attrition']=predict\n",
    "#test['Attrition']=test['Attrition'].map(lambda x:1 if x>=0.5 else 0)\n",
    "#test['Attrition']=predict\n",
    "#test[['user_id','Attrition']].to_csv('Submission.csv')"
   ]
  },
  {
   "cell_type": "code",
   "execution_count": 15,
   "metadata": {},
   "outputs": [],
   "source": [
    "predict=tpot.predict_proba(test)[:, 1]\n",
    "test['Attrition']=predict\n",
    "#test['Attrition']=test['Attrition'].map(lambda x:1 if x>=0.5 else 0)\n",
    "#test['Attrition']=predict\n",
    "test[['user_id','Attrition']].to_csv('Submission.csv')"
   ]
  },
  {
   "cell_type": "code",
   "execution_count": null,
   "metadata": {},
   "outputs": [],
   "source": []
  }
 ],
 "metadata": {
  "kernelspec": {
   "display_name": "Python 3",
   "language": "python",
   "name": "python3"
  },
  "language_info": {
   "codemirror_mode": {
    "name": "ipython",
    "version": 3
   },
   "file_extension": ".py",
   "mimetype": "text/x-python",
   "name": "python",
   "nbconvert_exporter": "python",
   "pygments_lexer": "ipython3",
   "version": "3.6.5"
  }
 },
 "nbformat": 4,
 "nbformat_minor": 2
}

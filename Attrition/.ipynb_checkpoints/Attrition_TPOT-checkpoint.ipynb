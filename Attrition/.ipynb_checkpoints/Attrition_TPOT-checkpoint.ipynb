{
 "cells": [
  {
   "cell_type": "code",
   "execution_count": 1,
   "metadata": {},
   "outputs": [],
   "source": [
    "import pandas as pd\n",
    "import numpy as np\n",
    "#一 数据收集 start \n",
    "train=pd.read_csv('train.csv')\n",
    "test=pd.read_csv('test.csv')"
   ]
  },
  {
   "cell_type": "code",
   "execution_count": 2,
   "metadata": {},
   "outputs": [
    {
     "name": "stdout",
     "output_type": "stream",
     "text": [
      "No     988\n",
      "Yes    188\n",
      "Name: Attrition, dtype: int64\n"
     ]
    }
   ],
   "source": [
    "#二 数据预处理 start \n",
    "print(train['Attrition'].value_counts())\n",
    "train['Attrition']=train['Attrition'].map(lambda x:1 if x=='Yes' else 0)"
   ]
  },
  {
   "cell_type": "code",
   "execution_count": 3,
   "metadata": {},
   "outputs": [],
   "source": [
    "#train.isna().sum()#查看是否有空值 Step1，对数据进行探索 \n",
    "#Step2，去掉无用特征，处理分类特征\n",
    "train= train.drop(['EmployeeNumber', 'StandardHours'], axis=1)\n",
    "test=test.drop(['EmployeeNumber', 'StandardHours'], axis=1)\n"
   ]
  },
  {
   "cell_type": "code",
   "execution_count": 4,
   "metadata": {},
   "outputs": [
    {
     "name": "stdout",
     "output_type": "stream",
     "text": [
      "[LabelEncoder(), LabelEncoder(), LabelEncoder(), LabelEncoder(), LabelEncoder(), LabelEncoder(), LabelEncoder(), LabelEncoder(), LabelEncoder()]\n"
     ]
    }
   ],
   "source": [
    "#分类特征进行特征值编码：\n",
    "from sklearn import preprocessing \n",
    "\n",
    "attr=['Age','BusinessTravel','Department','EducationField','Gender','JobRole','MaritalStatus','Over18','OverTime']\n",
    "lbe_list=[]\n",
    "for fea in attr:\n",
    "    lbe=preprocessing.LabelEncoder()\n",
    "    train[fea]=lbe.fit_transform(train[fea])\n",
    "    test[fea]=lbe.transform(test[fea])\n",
    "    lbe_list.append(lbe)\n",
    "print(lbe_list)"
   ]
  },
  {
   "cell_type": "code",
   "execution_count": 5,
   "metadata": {},
   "outputs": [],
   "source": [
    "#Step3，模型参数配置x\n",
    "param = {'boosting_type':'gbdt',\n",
    "                         'objective' : 'binary', #\n",
    "                         #'metric' : 'binary_logloss',\n",
    "                         'metric' : 'auc',\n",
    "#                          'metric' : 'self_metric',\n",
    "                         'learning_rate' : 0.01,\n",
    "                         'max_depth' : 15,\n",
    "                         'feature_fraction':0.8,\n",
    "                         'bagging_fraction': 0.9,\n",
    "                         'bagging_freq': 8,\n",
    "                         'lambda_l1': 0.6,\n",
    "                         'lambda_l2': 0,\n",
    "#                          'scale_pos_weight':k,\n",
    "#                         'is_unbalance':True\n",
    "        }"
   ]
  },
  {
   "cell_type": "code",
   "execution_count": 6,
   "metadata": {},
   "outputs": [
    {
     "name": "stdout",
     "output_type": "stream",
     "text": [
      "Training until validation scores don't improve for 200 rounds\n",
      "[25]\ttraining's auc: 0.925579\tvalid_1's auc: 0.732784\n",
      "[50]\ttraining's auc: 0.943425\tvalid_1's auc: 0.761432\n",
      "[75]\ttraining's auc: 0.957957\tvalid_1's auc: 0.786315"
     ]
    },
    {
     "name": "stderr",
     "output_type": "stream",
     "text": [
      "D:\\anocconda3-5.20\\lib\\site-packages\\lightgbm\\basic.py:1295: UserWarning: categorical_feature in Dataset is overridden.\n",
      "New categorical_feature is ['Age', 'BusinessTravel', 'Department', 'EducationField', 'Gender', 'JobRole', 'MaritalStatus', 'Over18', 'OverTime']\n",
      "  'New categorical_feature is {}'.format(sorted(list(categorical_feature))))\n"
     ]
    },
    {
     "name": "stdout",
     "output_type": "stream",
     "text": [
      "\n",
      "[100]\ttraining's auc: 0.966633\tvalid_1's auc: 0.789589\n",
      "[125]\ttraining's auc: 0.97698\tvalid_1's auc: 0.799302\n",
      "[150]\ttraining's auc: 0.982737\tvalid_1's auc: 0.800829\n",
      "[175]\ttraining's auc: 0.987435\tvalid_1's auc: 0.806832\n",
      "[200]\ttraining's auc: 0.99074\tvalid_1's auc: 0.811088\n",
      "[225]\ttraining's auc: 0.993614\tvalid_1's auc: 0.814471\n",
      "[250]\ttraining's auc: 0.99533\tvalid_1's auc: 0.815563\n",
      "[275]\ttraining's auc: 0.996874\tvalid_1's auc: 0.817527\n",
      "[300]\ttraining's auc: 0.997925\tvalid_1's auc: 0.821892\n",
      "[325]\ttraining's auc: 0.998392\tvalid_1's auc: 0.820037\n",
      "[350]\ttraining's auc: 0.998931\tvalid_1's auc: 0.820255\n",
      "[375]\ttraining's auc: 0.999228\tvalid_1's auc: 0.820146\n",
      "[400]\ttraining's auc: 0.999506\tvalid_1's auc: 0.823311\n",
      "[425]\ttraining's auc: 0.999722\tvalid_1's auc: 0.824184\n",
      "[450]\ttraining's auc: 0.999775\tvalid_1's auc: 0.822656\n",
      "[475]\ttraining's auc: 0.999883\tvalid_1's auc: 0.823639\n",
      "[500]\ttraining's auc: 0.999919\tvalid_1's auc: 0.823311\n",
      "[525]\ttraining's auc: 0.999946\tvalid_1's auc: 0.822438\n",
      "[550]\ttraining's auc: 0.999964\tvalid_1's auc: 0.821347\n",
      "[575]\ttraining's auc: 0.999982\tvalid_1's auc: 0.821783\n",
      "[600]\ttraining's auc: 1\tvalid_1's auc: 0.82222\n",
      "Early stopping, best iteration is:\n",
      "[415]\ttraining's auc: 0.999605\tvalid_1's auc: 0.825821\n"
     ]
    }
   ],
   "source": [
    "#Step4，模型训练，得出预测结果\n",
    "from sklearn.model_selection import  train_test_split\n",
    "import lightgbm as lgb\n",
    "from sklearn.metrics import accuracy_score\n",
    "X_train,X_valid,Y_train,Y_valid=train_test_split(train.drop('Attrition',axis=1),train['Attrition'],test_size=0.2,random_state=42)\n",
    "train_data=lgb.Dataset(X_train,label=Y_train)\n",
    "valid_data=lgb.Dataset(X_valid,label=Y_valid)\n",
    "model=lgb.train(param,train_data,1000,[train_data,valid_data],early_stopping_rounds=200,categorical_feature=attr,verbose_eval=25)\n",
    "predict=model.predict(test)\n",
    "#predict_y=model.predict(X_valid)\n",
    "#print('LR准确率: %0.4lf' % accuracy_score(predic_y, Y_valid))\n",
    "#print(predict)\n",
    "test['Attrition']=predict\n",
    "#test['Attrition']=test['Attrition'].map(lambda x:1 if x>=0.5 else 0)\n",
    "#test['Attrition']=predict\n",
    "test[['user_id','Attrition']].to_csv('Submission.csv')"
   ]
  },
  {
   "cell_type": "code",
   "execution_count": 30,
   "metadata": {},
   "outputs": [],
   "source": []
  },
  {
   "cell_type": "code",
   "execution_count": null,
   "metadata": {},
   "outputs": [],
   "source": []
  }
 ],
 "metadata": {
  "kernelspec": {
   "display_name": "Python 3",
   "language": "python",
   "name": "python3"
  },
  "language_info": {
   "codemirror_mode": {
    "name": "ipython",
    "version": 3
   },
   "file_extension": ".py",
   "mimetype": "text/x-python",
   "name": "python",
   "nbconvert_exporter": "python",
   "pygments_lexer": "ipython3",
   "version": "3.6.5"
  }
 },
 "nbformat": 4,
 "nbformat_minor": 2
}

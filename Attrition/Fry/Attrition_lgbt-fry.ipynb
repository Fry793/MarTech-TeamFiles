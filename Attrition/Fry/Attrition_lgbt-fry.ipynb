{
 "cells": [
  {
   "cell_type": "code",
   "execution_count": 1,
   "metadata": {
    "pycharm": {
     "is_executing": false
    }
   },
   "outputs": [
    {
     "data": {
      "text/plain": "   user_id  Age Attrition     BusinessTravel  DailyRate  \\\n0     1374   58        No      Travel_Rarely        605   \n1     1092   45        No      Travel_Rarely        950   \n2      768   40        No      Travel_Rarely        300   \n3      569   36        No         Non-Travel       1434   \n4      911   25       Yes  Travel_Frequently        599   \n\n               Department  DistanceFromHome  Education    EducationField  \\\n0                   Sales                21          3     Life Sciences   \n1  Research & Development                28          3  Technical Degree   \n2                   Sales                26          3         Marketing   \n3                   Sales                 8          4     Life Sciences   \n4                   Sales                24          1     Life Sciences   \n\n   EmployeeCount  ...  RelationshipSatisfaction  StandardHours  \\\n0              1  ...                         3             80   \n1              1  ...                         4             80   \n2              1  ...                         2             80   \n3              1  ...                         2             80   \n4              1  ...                         4             80   \n\n  StockOptionLevel  TotalWorkingYears  TrainingTimesLastYear  WorkLifeBalance  \\\n0                1                 29                      2                2   \n1                1                  8                      3                3   \n2                1                  8                      3                2   \n3                0                 10                      1                3   \n4                0                  1                      4                3   \n\n  YearsAtCompany  YearsInCurrentRole YearsSinceLastPromotion  \\\n0              1                   0                       0   \n1              5                   4                       0   \n2              7                   7                       7   \n3             10                   7                       0   \n4              1                   0                       1   \n\n   YearsWithCurrManager  \n0                     0  \n1                     3  \n2                     5  \n3                     9  \n4                     0  \n\n[5 rows x 36 columns]",
      "text/html": "<div>\n<style scoped>\n    .dataframe tbody tr th:only-of-type {\n        vertical-align: middle;\n    }\n\n    .dataframe tbody tr th {\n        vertical-align: top;\n    }\n\n    .dataframe thead th {\n        text-align: right;\n    }\n</style>\n<table border=\"1\" class=\"dataframe\">\n  <thead>\n    <tr style=\"text-align: right;\">\n      <th></th>\n      <th>user_id</th>\n      <th>Age</th>\n      <th>Attrition</th>\n      <th>BusinessTravel</th>\n      <th>DailyRate</th>\n      <th>Department</th>\n      <th>DistanceFromHome</th>\n      <th>Education</th>\n      <th>EducationField</th>\n      <th>EmployeeCount</th>\n      <th>...</th>\n      <th>RelationshipSatisfaction</th>\n      <th>StandardHours</th>\n      <th>StockOptionLevel</th>\n      <th>TotalWorkingYears</th>\n      <th>TrainingTimesLastYear</th>\n      <th>WorkLifeBalance</th>\n      <th>YearsAtCompany</th>\n      <th>YearsInCurrentRole</th>\n      <th>YearsSinceLastPromotion</th>\n      <th>YearsWithCurrManager</th>\n    </tr>\n  </thead>\n  <tbody>\n    <tr>\n      <th>0</th>\n      <td>1374</td>\n      <td>58</td>\n      <td>No</td>\n      <td>Travel_Rarely</td>\n      <td>605</td>\n      <td>Sales</td>\n      <td>21</td>\n      <td>3</td>\n      <td>Life Sciences</td>\n      <td>1</td>\n      <td>...</td>\n      <td>3</td>\n      <td>80</td>\n      <td>1</td>\n      <td>29</td>\n      <td>2</td>\n      <td>2</td>\n      <td>1</td>\n      <td>0</td>\n      <td>0</td>\n      <td>0</td>\n    </tr>\n    <tr>\n      <th>1</th>\n      <td>1092</td>\n      <td>45</td>\n      <td>No</td>\n      <td>Travel_Rarely</td>\n      <td>950</td>\n      <td>Research &amp; Development</td>\n      <td>28</td>\n      <td>3</td>\n      <td>Technical Degree</td>\n      <td>1</td>\n      <td>...</td>\n      <td>4</td>\n      <td>80</td>\n      <td>1</td>\n      <td>8</td>\n      <td>3</td>\n      <td>3</td>\n      <td>5</td>\n      <td>4</td>\n      <td>0</td>\n      <td>3</td>\n    </tr>\n    <tr>\n      <th>2</th>\n      <td>768</td>\n      <td>40</td>\n      <td>No</td>\n      <td>Travel_Rarely</td>\n      <td>300</td>\n      <td>Sales</td>\n      <td>26</td>\n      <td>3</td>\n      <td>Marketing</td>\n      <td>1</td>\n      <td>...</td>\n      <td>2</td>\n      <td>80</td>\n      <td>1</td>\n      <td>8</td>\n      <td>3</td>\n      <td>2</td>\n      <td>7</td>\n      <td>7</td>\n      <td>7</td>\n      <td>5</td>\n    </tr>\n    <tr>\n      <th>3</th>\n      <td>569</td>\n      <td>36</td>\n      <td>No</td>\n      <td>Non-Travel</td>\n      <td>1434</td>\n      <td>Sales</td>\n      <td>8</td>\n      <td>4</td>\n      <td>Life Sciences</td>\n      <td>1</td>\n      <td>...</td>\n      <td>2</td>\n      <td>80</td>\n      <td>0</td>\n      <td>10</td>\n      <td>1</td>\n      <td>3</td>\n      <td>10</td>\n      <td>7</td>\n      <td>0</td>\n      <td>9</td>\n    </tr>\n    <tr>\n      <th>4</th>\n      <td>911</td>\n      <td>25</td>\n      <td>Yes</td>\n      <td>Travel_Frequently</td>\n      <td>599</td>\n      <td>Sales</td>\n      <td>24</td>\n      <td>1</td>\n      <td>Life Sciences</td>\n      <td>1</td>\n      <td>...</td>\n      <td>4</td>\n      <td>80</td>\n      <td>0</td>\n      <td>1</td>\n      <td>4</td>\n      <td>3</td>\n      <td>1</td>\n      <td>0</td>\n      <td>1</td>\n      <td>0</td>\n    </tr>\n  </tbody>\n</table>\n<p>5 rows × 36 columns</p>\n</div>"
     },
     "metadata": {},
     "output_type": "execute_result",
     "execution_count": 1
    }
   ],
   "source": [
    "import pandas as pd\n",
    "import numpy as np\n",
    "#一 数据收集 start \n",
    "train=pd.read_csv('train.csv')\n",
    "test=pd.read_csv('test.csv')\n",
    "train.head()"
   ]
  },
  {
   "cell_type": "code",
   "execution_count": 2,
   "metadata": {
    "pycharm": {
     "is_executing": false
    }
   },
   "outputs": [
    {
     "name": "stdout",
     "text": [
      "No     988\n",
      "Yes    188\n",
      "Name: Attrition, dtype: int64\n"
     ],
     "output_type": "stream"
    }
   ],
   "source": [
    "#二 数据预处理 start \n",
    "print(train['Attrition'].value_counts())\n",
    "train['Attrition']=train['Attrition'].map(lambda x:1 if x=='Yes' else 0)"
   ]
  },
  {
   "cell_type": "code",
   "execution_count": 3,
   "metadata": {
    "pycharm": {
     "is_executing": false
    }
   },
   "outputs": [],
   "source": [
    "#train.isna().sum()#查看是否有空值 Step1，对数据进行探索 \n",
    "#Step2，去掉无用特征，处理分类特征\n",
    "train= train.drop(['EmployeeNumber', 'StandardHours'], axis=1)\n",
    "test=test.drop(['EmployeeNumber', 'StandardHours'], axis=1)\n"
   ]
  },
  {
   "cell_type": "code",
   "execution_count": 4,
   "metadata": {
    "pycharm": {
     "is_executing": false
    }
   },
   "outputs": [
    {
     "name": "stdout",
     "text": [
      "[LabelEncoder(), LabelEncoder(), LabelEncoder(), LabelEncoder(), LabelEncoder(), LabelEncoder(), LabelEncoder(), LabelEncoder(), LabelEncoder()]\n"
     ],
     "output_type": "stream"
    }
   ],
   "source": [
    "#分类特征进行特征值编码：\n",
    "from sklearn import preprocessing \n",
    "\n",
    "attr=['Age','BusinessTravel','Department','EducationField','Gender','JobRole','MaritalStatus','Over18','OverTime']\n",
    "lbe_list=[]\n",
    "for fea in attr:\n",
    "    lbe=preprocessing.LabelEncoder()\n",
    "    train[fea]=lbe.fit_transform(train[fea])\n",
    "    test[fea]=lbe.transform(test[fea])\n",
    "    lbe_list.append(lbe)\n",
    "print(lbe_list)"
   ]
  },
  {
   "cell_type": "code",
   "execution_count": 5,
   "metadata": {
    "pycharm": {
     "is_executing": false
    }
   },
   "outputs": [],
   "source": [
    "#Step3，模型参数配置x\n",
    "param = {'boosting_type':'gbdt',\n",
    "                         'objective' : 'binary', #\n",
    "                         #'metric' : 'binary_logloss',\n",
    "                         'metric' : 'auc',\n",
    "#                          'metric' : 'self_metric',\n",
    "                         'learning_rate' : 0.01,\n",
    "                         'max_depth' : 15,\n",
    "                         'feature_fraction':0.8,\n",
    "                         'bagging_fraction': 0.9,\n",
    "                         'bagging_freq': 8,\n",
    "                         'lambda_l1': 0.6,\n",
    "                         'lambda_l2': 0,\n",
    "#                          'scale_pos_weight':k,\n",
    "#                         'is_unbalance':True\n",
    "        }"
   ]
  },
  {
   "cell_type": "code",
   "execution_count": 6,
   "metadata": {
    "pycharm": {
     "is_executing": false
    }
   },
   "outputs": [
    {
     "name": "stderr",
     "text": [
      "/Users/l.longfeng/miniconda3/lib/python3.7/site-packages/lightgbm/__init__.py:48: UserWarning: Starting from version 2.2.1, the library file in distribution wheels for macOS is built by the Apple Clang (Xcode_8.3.3) compiler.\n",
      "This means that in case of installing LightGBM from PyPI via the ``pip install lightgbm`` command, you don't need to install the gcc compiler anymore.\n",
      "Instead of that, you need to install the OpenMP library, which is required for running LightGBM on the system with the Apple Clang compiler.\n",
      "You can install the OpenMP library by the following command: ``brew install libomp``.\n",
      "  \"You can install the OpenMP library by the following command: ``brew install libomp``.\", UserWarning)\n"
     ],
     "output_type": "stream"
    },
    {
     "data": {
      "text/plain": "     user_id  Age  BusinessTravel  DailyRate  Department  DistanceFromHome  \\\n43       434   13               2       1274           1                 9   \n490     1455   22               2       1322           1                 2   \n765     1185   25               2       1291           1                15   \n575     1115   16               2        479           1                 7   \n135      269   18               2       1403           1                 6   \n\n     Education  EducationField  EmployeeCount  EnvironmentSatisfaction  ...  \\\n43           1               1              1                        3  ...   \n490          4               1              1                        3  ...   \n765          2               1              1                        3  ...   \n575          4               3              1                        1  ...   \n135          3               1              1                        4  ...   \n\n     PerformanceRating  RelationshipSatisfaction  StockOptionLevel  \\\n43                   4                         4                 1   \n490                  3                         4                 0   \n765                  4                         1                 1   \n575                  3                         3                 0   \n135                  3                         3                 1   \n\n     TotalWorkingYears  TrainingTimesLastYear  WorkLifeBalance  \\\n43                  13                      6                4   \n490                  8                      2                3   \n765                 14                      3                3   \n575                  1                      4                1   \n135                 16                      4                3   \n\n     YearsAtCompany  YearsInCurrentRole  YearsSinceLastPromotion  \\\n43               13                   8                        0   \n490               2                   2                        2   \n765              14                  10                        6   \n575               1                   0                        0   \n135              15                  13                       10   \n\n     YearsWithCurrManager  \n43                      8  \n490                     2  \n765                    11  \n575                     0  \n135                    11  \n\n[5 rows x 33 columns]",
      "text/html": "<div>\n<style scoped>\n    .dataframe tbody tr th:only-of-type {\n        vertical-align: middle;\n    }\n\n    .dataframe tbody tr th {\n        vertical-align: top;\n    }\n\n    .dataframe thead th {\n        text-align: right;\n    }\n</style>\n<table border=\"1\" class=\"dataframe\">\n  <thead>\n    <tr style=\"text-align: right;\">\n      <th></th>\n      <th>user_id</th>\n      <th>Age</th>\n      <th>BusinessTravel</th>\n      <th>DailyRate</th>\n      <th>Department</th>\n      <th>DistanceFromHome</th>\n      <th>Education</th>\n      <th>EducationField</th>\n      <th>EmployeeCount</th>\n      <th>EnvironmentSatisfaction</th>\n      <th>...</th>\n      <th>PerformanceRating</th>\n      <th>RelationshipSatisfaction</th>\n      <th>StockOptionLevel</th>\n      <th>TotalWorkingYears</th>\n      <th>TrainingTimesLastYear</th>\n      <th>WorkLifeBalance</th>\n      <th>YearsAtCompany</th>\n      <th>YearsInCurrentRole</th>\n      <th>YearsSinceLastPromotion</th>\n      <th>YearsWithCurrManager</th>\n    </tr>\n  </thead>\n  <tbody>\n    <tr>\n      <th>43</th>\n      <td>434</td>\n      <td>13</td>\n      <td>2</td>\n      <td>1274</td>\n      <td>1</td>\n      <td>9</td>\n      <td>1</td>\n      <td>1</td>\n      <td>1</td>\n      <td>3</td>\n      <td>...</td>\n      <td>4</td>\n      <td>4</td>\n      <td>1</td>\n      <td>13</td>\n      <td>6</td>\n      <td>4</td>\n      <td>13</td>\n      <td>8</td>\n      <td>0</td>\n      <td>8</td>\n    </tr>\n    <tr>\n      <th>490</th>\n      <td>1455</td>\n      <td>22</td>\n      <td>2</td>\n      <td>1322</td>\n      <td>1</td>\n      <td>2</td>\n      <td>4</td>\n      <td>1</td>\n      <td>1</td>\n      <td>3</td>\n      <td>...</td>\n      <td>3</td>\n      <td>4</td>\n      <td>0</td>\n      <td>8</td>\n      <td>2</td>\n      <td>3</td>\n      <td>2</td>\n      <td>2</td>\n      <td>2</td>\n      <td>2</td>\n    </tr>\n    <tr>\n      <th>765</th>\n      <td>1185</td>\n      <td>25</td>\n      <td>2</td>\n      <td>1291</td>\n      <td>1</td>\n      <td>15</td>\n      <td>2</td>\n      <td>1</td>\n      <td>1</td>\n      <td>3</td>\n      <td>...</td>\n      <td>4</td>\n      <td>1</td>\n      <td>1</td>\n      <td>14</td>\n      <td>3</td>\n      <td>3</td>\n      <td>14</td>\n      <td>10</td>\n      <td>6</td>\n      <td>11</td>\n    </tr>\n    <tr>\n      <th>575</th>\n      <td>1115</td>\n      <td>16</td>\n      <td>2</td>\n      <td>479</td>\n      <td>1</td>\n      <td>7</td>\n      <td>4</td>\n      <td>3</td>\n      <td>1</td>\n      <td>1</td>\n      <td>...</td>\n      <td>3</td>\n      <td>3</td>\n      <td>0</td>\n      <td>1</td>\n      <td>4</td>\n      <td>1</td>\n      <td>1</td>\n      <td>0</td>\n      <td>0</td>\n      <td>0</td>\n    </tr>\n    <tr>\n      <th>135</th>\n      <td>269</td>\n      <td>18</td>\n      <td>2</td>\n      <td>1403</td>\n      <td>1</td>\n      <td>6</td>\n      <td>3</td>\n      <td>1</td>\n      <td>1</td>\n      <td>4</td>\n      <td>...</td>\n      <td>3</td>\n      <td>3</td>\n      <td>1</td>\n      <td>16</td>\n      <td>4</td>\n      <td>3</td>\n      <td>15</td>\n      <td>13</td>\n      <td>10</td>\n      <td>11</td>\n    </tr>\n  </tbody>\n</table>\n<p>5 rows × 33 columns</p>\n</div>"
     },
     "metadata": {},
     "output_type": "execute_result",
     "execution_count": 6
    }
   ],
   "source": [
    "#Step4，模型训练，得出预测结果\n",
    "from sklearn.model_selection import  train_test_split\n",
    "import lightgbm as lgb\n",
    "from sklearn.metrics import accuracy_score\n",
    "X_train,X_valid,Y_train,Y_valid=train_test_split(train.drop('Attrition',axis=1),train['Attrition'],test_size=0.2,random_state=42)"
   ]
  },
  {
   "cell_type": "code",
   "execution_count": 10,
   "metadata": {
    "pycharm": {
     "is_executing": false
    }
   },
   "outputs": [
    {
     "name": "stderr",
     "text": [
      "/Users/l.longfeng/miniconda3/lib/python3.7/site-packages/lightgbm/basic.py:1247: UserWarning: categorical_feature in Dataset is overridden.\n",
      "New categorical_feature is ['Age', 'BusinessTravel', 'Department', 'EducationField', 'Gender', 'JobRole', 'MaritalStatus', 'Over18', 'OverTime']\n",
      "  'New categorical_feature is {}'.format(sorted(list(categorical_feature))))\n"
     ],
     "output_type": "stream"
    },
    {
     "name": "stdout",
     "text": [
      "Training until validation scores don't improve for 200 rounds\n",
      "[25]\ttraining's auc: 0.933685\tvalid_1's auc: 0.75412\n",
      "[50]\ttraining's auc: 0.947107\tvalid_1's auc: 0.764815\n",
      "[75]\ttraining's auc: 0.961253\tvalid_1's auc: 0.777365\n",
      "[100]\ttraining's auc: 0.972022\tvalid_1's auc: 0.787733\n",
      "[125]\ttraining's auc: 0.980276\tvalid_1's auc: 0.794281\n",
      "[150]\ttraining's auc: 0.984363\tvalid_1's auc: 0.801484\n",
      "[175]\ttraining's auc: 0.989159\tvalid_1's auc: 0.799847\n",
      "[200]\ttraining's auc: 0.992527\tvalid_1's auc: 0.802248\n",
      "[225]\ttraining's auc: 0.994404\tvalid_1's auc: 0.804213\n",
      "[250]\ttraining's auc: 0.99559\tvalid_1's auc: 0.802903\n",
      "[275]\ttraining's auc: 0.997072\tvalid_1's auc: 0.805522\n",
      "[300]\ttraining's auc: 0.997826\tvalid_1's auc: 0.807814\n",
      "[325]\ttraining's auc: 0.998491\tvalid_1's auc: 0.810215\n",
      "[350]\ttraining's auc: 0.999048\tvalid_1's auc: 0.811525\n",
      "[375]\ttraining's auc: 0.999353\tvalid_1's auc: 0.814362\n",
      "[400]\ttraining's auc: 0.999641\tvalid_1's auc: 0.816108\n",
      "[425]\ttraining's auc: 0.999829\tvalid_1's auc: 0.817854\n",
      "[450]\ttraining's auc: 0.999901\tvalid_1's auc: 0.820037\n",
      "[475]\ttraining's auc: 0.99991\tvalid_1's auc: 0.820474\n",
      "[500]\ttraining's auc: 0.999946\tvalid_1's auc: 0.81971\n",
      "[525]\ttraining's auc: 0.999964\tvalid_1's auc: 0.820474\n",
      "[550]\ttraining's auc: 0.999964\tvalid_1's auc: 0.819819\n",
      "[575]\ttraining's auc: 1\tvalid_1's auc: 0.820146\n",
      "[600]\ttraining's auc: 1\tvalid_1's auc: 0.819601\n",
      "[625]\ttraining's auc: 1\tvalid_1's auc: 0.818837\n",
      "[650]\ttraining's auc: 1\tvalid_1's auc: 0.8184\n",
      "Early stopping, best iteration is:\n",
      "[465]\ttraining's auc: 0.99991\tvalid_1's auc: 0.821128\n"
     ],
     "output_type": "stream"
    }
   ],
   "source": [
    "train_data=lgb.Dataset(X_train,label=Y_train)\n",
    "valid_data=lgb.Dataset(X_valid,label=Y_valid)\n",
    "model=lgb.train(param,train_data,1000,[train_data,valid_data],early_stopping_rounds=200,categorical_feature=attr,verbose_eval=25)\n",
    "predict=model.predict(test)\n",
    "#predict_y=model.predict(X_valid)\n",
    "#print('LR准确率: %0.4lf' % accuracy_score(predic_y, Y_valid))\n",
    "#print(predict)\n",
    "test['Attrition']=predict\n",
    "#test['Attrition']=test['Attrition'].map(lambda x:1 if x>=0.5 else 0)\n",
    "#test['Attrition']=predict"
   ]
  },
  {
   "cell_type": "code",
   "execution_count": 12,
   "outputs": [],
   "source": [
    "test[['user_id','Attrition']].to_csv('./Submission.csv')\n",
    "\n"
   ],
   "metadata": {
    "collapsed": false,
    "pycharm": {
     "name": "#%%\n",
     "is_executing": false
    }
   }
  }
 ],
 "metadata": {
  "kernelspec": {
   "display_name": "Python 3",
   "language": "python",
   "name": "python3"
  },
  "language_info": {
   "codemirror_mode": {
    "name": "ipython",
    "version": 3
   },
   "file_extension": ".py",
   "mimetype": "text/x-python",
   "name": "python",
   "nbconvert_exporter": "python",
   "pygments_lexer": "ipython3",
   "version": "3.6.5"
  },
  "pycharm": {
   "stem_cell": {
    "cell_type": "raw",
    "source": [],
    "metadata": {
     "collapsed": false
    }
   }
  }
 },
 "nbformat": 4,
 "nbformat_minor": 2
}

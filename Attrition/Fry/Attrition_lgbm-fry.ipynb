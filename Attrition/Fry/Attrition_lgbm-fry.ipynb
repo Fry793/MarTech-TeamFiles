{
 "cells": [
  {
   "cell_type": "code",
   "execution_count": 4,
   "metadata": {},
   "outputs": [],
   "source": [
    "import pandas as pd\n",
    "import numpy as np\n",
    "#一 数据收集 start \n",
    "train=pd.read_csv('train.csv',index_col=0)\n",
    "test=pd.read_csv('test.csv',index_col=0)"
   ]
  },
  {
   "cell_type": "code",
   "execution_count": 5,
   "metadata": {},
   "outputs": [
    {
     "name": "stdout",
     "output_type": "stream",
     "text": [
      "No     988\n",
      "Yes    188\n",
      "Name: Attrition, dtype: int64\n"
     ]
    }
   ],
   "source": [
    "#二 数据预处理 start \n",
    "print(train['Attrition'].value_counts())\n",
    "train['Attrition']=train['Attrition'].map(lambda x:1 if x=='Yes' else 0)"
   ]
  },
  {
   "cell_type": "code",
   "execution_count": 6,
   "metadata": {},
   "outputs": [],
   "source": [
    "#train.isna().sum()#查看是否有空值 Step1，对数据进行探索 \n",
    "#Step2，去掉无用特征，处理分类特征\n",
    "train= train.drop(['EmployeeNumber', 'StandardHours'], axis=1)\n",
    "test=test.drop(['EmployeeNumber', 'StandardHours'], axis=1)\n"
   ]
  },
  {
   "cell_type": "code",
   "execution_count": 7,
   "metadata": {},
   "outputs": [],
   "source": [
    "#分类特征进行特征值编码：\n",
    "from sklearn import preprocessing \n",
    "\n",
    "attr=['BusinessTravel','Department','EducationField','Gender','JobRole','MaritalStatus','Over18','OverTime']\n",
    "lbe_list=[]\n",
    "for fea in attr:\n",
    "    lbe=preprocessing.LabelEncoder()\n",
    "    train[fea]=lbe.fit_transform(train[fea])\n",
    "    test[fea]=lbe.transform(test[fea])\n",
    "    lbe_list.append(lbe)"
   ]
  },
  {
   "cell_type": "code",
   "execution_count": 23,
   "metadata": {},
   "outputs": [],
   "source": [
    "#Step3，模型参数配置x\n",
    "param = {'boosting_type':'gbdt',\n",
    "                         'objective' : 'binary', #\n",
    "                         #'metric' : 'binary_logloss',\n",
    "                         'metric' : 'auc',\n",
    "#                          'metric' : 'self_metric',\n",
    "                         'learning_rate' : 0.01,\n",
    "                         'max_depth' : 10,\n",
    "                         'feature_fraction':0.8,\n",
    "                         'bagging_fraction': 0.9,\n",
    "                         'bagging_freq': 8,\n",
    "                         'lambda_l1': 0.6,\n",
    "                         'lambda_l2': 0,\n",
    "#                          'scale_pos_weight':k,\n",
    "#                         'is_unbalance':True\n",
    "        }"
   ]
  },
  {
   "cell_type": "code",
   "execution_count": 24,
   "metadata": {},
   "outputs": [
    {
     "name": "stderr",
     "output_type": "stream",
     "text": [
      "D:\\anocconda3-5.20\\lib\\site-packages\\lightgbm\\basic.py:1295: UserWarning: categorical_feature in Dataset is overridden.\n",
      "New categorical_feature is ['BusinessTravel', 'Department', 'EducationField', 'Gender', 'JobRole', 'MaritalStatus', 'Over18', 'OverTime']\n",
      "  'New categorical_feature is {}'.format(sorted(list(categorical_feature))))\n"
     ]
    },
    {
     "name": "stdout",
     "output_type": "stream",
     "text": [
      "Training until validation scores don't improve for 200 rounds\n",
      "[25]\ttraining's auc: 0.920872\tvalid_1's auc: 0.781349\n",
      "[50]\ttraining's auc: 0.941184\tvalid_1's auc: 0.785769\n",
      "[75]\ttraining's auc: 0.953125\tvalid_1's auc: 0.797446\n",
      "[100]\ttraining's auc: 0.960939\tvalid_1's auc: 0.807159\n",
      "[125]\ttraining's auc: 0.970558\tvalid_1's auc: 0.81469\n",
      "[150]\ttraining's auc: 0.978022\tvalid_1's auc: 0.818618\n",
      "[175]\ttraining's auc: 0.983815\tvalid_1's auc: 0.823311\n",
      "[200]\ttraining's auc: 0.988387\tvalid_1's auc: 0.827677\n",
      "[225]\ttraining's auc: 0.992105\tvalid_1's auc: 0.82975\n",
      "[250]\ttraining's auc: 0.994072\tvalid_1's auc: 0.827786\n",
      "[275]\ttraining's auc: 0.995716\tvalid_1's auc: 0.829204\n",
      "[300]\ttraining's auc: 0.996803\tvalid_1's auc: 0.830077\n",
      "[325]\ttraining's auc: 0.997701\tvalid_1's auc: 0.830405\n",
      "[350]\ttraining's auc: 0.998491\tvalid_1's auc: 0.830623\n",
      "[375]\ttraining's auc: 0.99894\tvalid_1's auc: 0.832588\n",
      "[400]\ttraining's auc: 0.999326\tvalid_1's auc: 0.834552\n",
      "[425]\ttraining's auc: 0.999587\tvalid_1's auc: 0.834989\n",
      "[450]\ttraining's auc: 0.999722\tvalid_1's auc: 0.834661\n",
      "[475]\ttraining's auc: 0.999838\tvalid_1's auc: 0.832042\n",
      "[500]\ttraining's auc: 0.99991\tvalid_1's auc: 0.831278\n",
      "[525]\ttraining's auc: 0.999919\tvalid_1's auc: 0.831715\n",
      "[550]\ttraining's auc: 0.999955\tvalid_1's auc: 0.831169\n",
      "[575]\ttraining's auc: 0.999973\tvalid_1's auc: 0.831278\n",
      "[600]\ttraining's auc: 0.999982\tvalid_1's auc: 0.830296\n",
      "Early stopping, best iteration is:\n",
      "[417]\ttraining's auc: 0.999515\tvalid_1's auc: 0.835971\n"
     ]
    }
   ],
   "source": [
    "#Step4，模型训练，得出预测结果\n",
    "from sklearn.model_selection import  train_test_split\n",
    "import lightgbm as lgb\n",
    "from sklearn.metrics import accuracy_score\n",
    "X_train,X_valid,Y_train,Y_valid=train_test_split(train.drop('Attrition',axis=1),train['Attrition'],test_size=0.2,random_state=42)\n",
    "train_data=lgb.Dataset(X_train,label=Y_train)\n",
    "valid_data=lgb.Dataset(X_valid,label=Y_valid)\n",
    "model=lgb.train(param,train_data,1000,[train_data,valid_data],early_stopping_rounds=200,categorical_feature=attr,verbose_eval=25)\n"
   ]
  },
  {
   "cell_type": "code",
   "execution_count": 10,
   "metadata": {},
   "outputs": [],
   "source": [
    "predict=model.predict(test)\n",
    "#predict_y=model.predict(X_valid)\n",
    "#print('LR准确率: %0.4lf' % accuracy_score(predic_y, Y_valid))\n",
    "#print(predict)\n",
    "test['Attrition']=predict\n",
    "#test['Attrition']=test['Attrition'].map(lambda x:1 if x>=0.5 else 0)\n",
    "#test['Attrition']=predict\n",
    "test[['Attrition']].to_csv('Submission.csv')"
   ]
  },
  {
   "cell_type": "code",
   "execution_count": null,
   "metadata": {},
   "outputs": [],
   "source": []
  },
  {
   "cell_type": "code",
   "execution_count": 12,
   "metadata": {},
   "outputs": [
    {
     "name": "stdout",
     "output_type": "stream",
     "text": [
      "Object `LightGBM` not found.\n"
     ]
    }
   ],
   "source": [
    "LightGBM?"
   ]
  },
  {
   "cell_type": "code",
   "execution_count": null,
   "metadata": {},
   "outputs": [],
   "source": []
  }
 ],
 "metadata": {
  "kernelspec": {
   "display_name": "Python 3",
   "language": "python",
   "name": "python3"
  },
  "language_info": {
   "codemirror_mode": {
    "name": "ipython",
    "version": 3
   },
   "file_extension": ".py",
   "mimetype": "text/x-python",
   "name": "python",
   "nbconvert_exporter": "python",
   "pygments_lexer": "ipython3",
   "version": "3.6.5"
  }
 },
 "nbformat": 4,
 "nbformat_minor": 2
}

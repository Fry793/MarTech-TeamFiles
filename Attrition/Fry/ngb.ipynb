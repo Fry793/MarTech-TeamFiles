{
 "cells": [
  {
   "cell_type": "code",
   "execution_count": 6,
   "metadata": {},
   "outputs": [
    {
     "name": "stdout",
     "output_type": "stream",
     "text": [
      "[iter 0] loss=0.4190 val_loss=0.0000 scale=1.0000 norm=0.2520\n",
      "[iter 50] loss=0.4065 val_loss=0.0000 scale=1.0000 norm=0.2487\n",
      "[iter 100] loss=0.3957 val_loss=0.0000 scale=1.0000 norm=0.2454\n",
      "[iter 150] loss=0.3863 val_loss=0.0000 scale=1.0000 norm=0.2424\n",
      "[iter 200] loss=0.3769 val_loss=0.0000 scale=1.0000 norm=0.2394\n",
      "[iter 250] loss=0.3686 val_loss=0.0000 scale=1.0000 norm=0.2366\n",
      "[iter 300] loss=0.3613 val_loss=0.0000 scale=1.0000 norm=0.2338\n",
      "[iter 350] loss=0.3547 val_loss=0.0000 scale=1.0000 norm=0.2312\n",
      "[iter 400] loss=0.3485 val_loss=0.0000 scale=1.0000 norm=0.2287\n",
      "[iter 450] loss=0.3424 val_loss=0.0000 scale=1.0000 norm=0.2261\n",
      "[iter 500] loss=0.3366 val_loss=0.0000 scale=1.0000 norm=0.2235\n",
      "[iter 550] loss=0.3312 val_loss=0.0000 scale=1.0000 norm=0.2210\n",
      "[iter 600] loss=0.3261 val_loss=0.0000 scale=1.0000 norm=0.2187\n",
      "[iter 650] loss=0.3211 val_loss=0.0000 scale=1.0000 norm=0.2164\n",
      "[iter 700] loss=0.3160 val_loss=0.0000 scale=1.0000 norm=0.2139\n",
      "[iter 750] loss=0.3116 val_loss=0.0000 scale=1.0000 norm=0.2118\n",
      "[iter 800] loss=0.3073 val_loss=0.0000 scale=1.0000 norm=0.2097\n",
      "[iter 850] loss=0.3033 val_loss=0.0000 scale=1.0000 norm=0.2076\n",
      "[iter 900] loss=0.2994 val_loss=0.0000 scale=1.0000 norm=0.2056\n",
      "[iter 950] loss=0.2957 val_loss=0.0000 scale=1.0000 norm=0.2037\n"
     ]
    }
   ],
   "source": [
    "import pandas as pd\n",
    "train=pd.read_csv('train.csv',index_col=0)\n",
    "test=pd.read_csv('test.csv',index_col=0)\n",
    "\n",
    "#print(train['Attrition'].value_counts())\n",
    "# 处理Attrition字段\n",
    "train['Attrition']=train['Attrition'].map(lambda x:1 if x=='Yes' else 0)\n",
    "from sklearn.preprocessing import LabelEncoder\n",
    "# 查看数据是否有空值\n",
    "#print(train.isna().sum())\n",
    "\n",
    "# 去掉没用的列 员工号码，标准工时（=80）\n",
    "train = train.drop(['EmployeeNumber', 'StandardHours'], axis=1)\n",
    "test = test.drop(['EmployeeNumber', 'StandardHours'], axis=1)\n",
    "\n",
    "# 对于分类特征进行特征值编码\n",
    "attr=['Age','BusinessTravel','Department','Education','EducationField','Gender','JobRole','MaritalStatus','Over18','OverTime']\n",
    "lbe_list=[]\n",
    "for feature in attr:\n",
    "    lbe=LabelEncoder()\n",
    "    train[feature]=lbe.fit_transform(train[feature])\n",
    "    test[feature]=lbe.transform(test[feature])\n",
    "    lbe_list.append(lbe)\n",
    "#print(train)\n",
    "\n",
    "import ngboost as ng\n",
    "import numpy as np\n",
    "from sklearn.model_selection import train_test_split\n",
    "X_train, X_valid, y_train, y_valid = train_test_split(train.drop('Attrition',axis=1), train['Attrition'], test_size=0.2, random_state=42)\n",
    "\n",
    "model = ng.NGBClassifier(n_estimators=1000, \n",
    "                              learning_rate=0.01, \n",
    "                              verbose=True, \n",
    "                              verbose_eval=50,\n",
    "                         natural_gradient=True\n",
    "                             )\n",
    "\n",
    "\n",
    "model.fit(X_train, y_train)\n",
    "\n",
    "#predict = model.predict(test)\n",
    "predict = model.pred_dist(test).prob\n",
    "#print(predict)\n",
    "test['Attrition']=predict\n",
    "## 转化为二分类输出\n",
    "test[['Attrition']].to_csv('submit_ngb.csv')\n"
   ]
  },
  {
   "cell_type": "code",
   "execution_count": 3,
   "metadata": {},
   "outputs": [
    {
     "data": {
      "text/plain": [
       "\u001b[1;31mInit signature:\u001b[0m \u001b[0mng\u001b[0m\u001b[1;33m.\u001b[0m\u001b[0mNGBClassifier\u001b[0m\u001b[1;33m(\u001b[0m\u001b[0mDist\u001b[0m\u001b[1;33m=\u001b[0m\u001b[1;33m<\u001b[0m\u001b[1;32mclass\u001b[0m \u001b[1;34m'ngboost.distns.bernoulli.Bernoulli'\u001b[0m\u001b[1;33m>\u001b[0m\u001b[1;33m,\u001b[0m \u001b[0mScore\u001b[0m\u001b[1;33m=\u001b[0m\u001b[1;33m<\u001b[0m\u001b[1;32mclass\u001b[0m \u001b[1;34m'ngboost.scores.MLE'\u001b[0m\u001b[1;33m>\u001b[0m\u001b[1;33m,\u001b[0m \u001b[0mBase\u001b[0m\u001b[1;33m=\u001b[0m\u001b[1;33m<\u001b[0m\u001b[0mfunction\u001b[0m \u001b[0mdefault_tree_learner\u001b[0m \u001b[0mat\u001b[0m \u001b[1;36m0x00000259C0F47268\u001b[0m\u001b[1;33m>\u001b[0m\u001b[1;33m,\u001b[0m \u001b[0mnatural_gradient\u001b[0m\u001b[1;33m=\u001b[0m\u001b[1;32mTrue\u001b[0m\u001b[1;33m,\u001b[0m \u001b[0mn_estimators\u001b[0m\u001b[1;33m=\u001b[0m\u001b[1;36m500\u001b[0m\u001b[1;33m,\u001b[0m \u001b[0mlearning_rate\u001b[0m\u001b[1;33m=\u001b[0m\u001b[1;36m0.01\u001b[0m\u001b[1;33m,\u001b[0m \u001b[0mminibatch_frac\u001b[0m\u001b[1;33m=\u001b[0m\u001b[1;36m1.0\u001b[0m\u001b[1;33m,\u001b[0m \u001b[0mverbose\u001b[0m\u001b[1;33m=\u001b[0m\u001b[1;32mTrue\u001b[0m\u001b[1;33m,\u001b[0m \u001b[0mverbose_eval\u001b[0m\u001b[1;33m=\u001b[0m\u001b[1;36m100\u001b[0m\u001b[1;33m,\u001b[0m \u001b[0mtol\u001b[0m\u001b[1;33m=\u001b[0m\u001b[1;36m0.0001\u001b[0m\u001b[1;33m)\u001b[0m\u001b[1;33m\u001b[0m\u001b[0m\n",
       "\u001b[1;31mDocstring:\u001b[0m     \n",
       "Base class for all estimators in scikit-learn\n",
       "\n",
       "Notes\n",
       "-----\n",
       "All estimators should specify all the parameters that can be set\n",
       "at the class level in their ``__init__`` as explicit keyword\n",
       "arguments (no ``*args`` or ``**kwargs``).\n",
       "\u001b[1;31mFile:\u001b[0m           c:\\users\\fry\\appdata\\roaming\\python\\python36\\site-packages\\ngboost\\api.py\n",
       "\u001b[1;31mType:\u001b[0m           type\n"
      ]
     },
     "metadata": {},
     "output_type": "display_data"
    }
   ],
   "source": [
    "ng.NGBClassifier?"
   ]
  },
  {
   "cell_type": "code",
   "execution_count": null,
   "metadata": {},
   "outputs": [],
   "source": []
  }
 ],
 "metadata": {
  "kernelspec": {
   "display_name": "Python 3",
   "language": "python",
   "name": "python3"
  },
  "language_info": {
   "codemirror_mode": {
    "name": "ipython",
    "version": 3
   },
   "file_extension": ".py",
   "mimetype": "text/x-python",
   "name": "python",
   "nbconvert_exporter": "python",
   "pygments_lexer": "ipython3",
   "version": "3.6.5"
  }
 },
 "nbformat": 4,
 "nbformat_minor": 2
}
